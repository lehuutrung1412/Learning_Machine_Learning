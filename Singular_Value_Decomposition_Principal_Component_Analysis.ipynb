{
  "nbformat": 4,
  "nbformat_minor": 0,
  "metadata": {
    "colab": {
      "name": "CS115_SVD_PCA",
      "provenance": [],
      "collapsed_sections": [],
      "include_colab_link": true
    },
    "kernelspec": {
      "name": "python3",
      "display_name": "Python 3"
    }
  },
  "cells": [
    {
      "cell_type": "markdown",
      "metadata": {
        "id": "view-in-github",
        "colab_type": "text"
      },
      "source": [
        "<a href=\"https://colab.research.google.com/github/lehuutrung1412/Learning_Machine_Learning/blob/main/Singular_Value_Decomposition_Principal_Component_Analysis.ipynb\" target=\"_parent\"><img src=\"https://colab.research.google.com/assets/colab-badge.svg\" alt=\"Open In Colab\"/></a>"
      ]
    },
    {
      "cell_type": "markdown",
      "metadata": {
        "id": "ZAQnq4q1rTUc"
      },
      "source": [
        "# Đồ án CS115\r\n"
      ]
    },
    {
      "cell_type": "markdown",
      "metadata": {
        "id": "bszEI6HjsNPe"
      },
      "source": [
        "##Singular Value Decomposition\r\n"
      ]
    }
  ]
}